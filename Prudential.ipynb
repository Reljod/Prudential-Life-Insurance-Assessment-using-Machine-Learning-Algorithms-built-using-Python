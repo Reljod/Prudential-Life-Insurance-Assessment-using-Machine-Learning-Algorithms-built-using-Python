{
 "cells": [
  {
   "cell_type": "code",
   "execution_count": 1,
   "metadata": {},
   "outputs": [],
   "source": [
    "import numpy as np\n",
    "import pandas as pd\n",
    "import matplotlib.pyplot\n",
    "\n",
    "import os"
   ]
  },
  {
   "cell_type": "markdown",
   "metadata": {},
   "source": [
    "## Import Data"
   ]
  },
  {
   "cell_type": "code",
   "execution_count": 2,
   "metadata": {},
   "outputs": [],
   "source": [
    "data_path = r'C:\\Users\\Reljod\\Desktop\\Study Materials\\kaggle\\dataset\\prudential-insurance'"
   ]
  },
  {
   "cell_type": "code",
   "execution_count": 3,
   "metadata": {},
   "outputs": [],
   "source": [
    "train_path = os.path.join(data_path, 'train.csv')\n",
    "test_path = os.path.join(data_path, 'test.csv')\n",
    "sample_sub_path = os.path.join(data_path, 'sample_submission.csv')"
   ]
  },
  {
   "cell_type": "code",
   "execution_count": 4,
   "metadata": {},
   "outputs": [
    {
     "name": "stdout",
     "output_type": "stream",
     "text": [
      "(59381, 128)\n",
      "(19765, 127)\n"
     ]
    }
   ],
   "source": [
    "df_train_raw = pd.read_csv(train_path)\n",
    "print(df_train_raw.shape)\n",
    "df_test_raw = pd.read_csv(test_path)\n",
    "print(df_test_raw.shape)"
   ]
  },
  {
   "cell_type": "markdown",
   "metadata": {},
   "source": [
    "## Inspect Data"
   ]
  },
  {
   "cell_type": "code",
   "execution_count": 5,
   "metadata": {},
   "outputs": [],
   "source": [
    "#Copy the raw data\n",
    "df_train = df_train_raw.copy()\n",
    "df_test = df_test_raw.copy()"
   ]
  },
  {
   "cell_type": "code",
   "execution_count": 6,
   "metadata": {},
   "outputs": [],
   "source": [
    "df_train.set_index('Id', inplace=True)"
   ]
  },
  {
   "cell_type": "code",
   "execution_count": 7,
   "metadata": {},
   "outputs": [],
   "source": [
    "df_test.set_index('Id', inplace=True)"
   ]
  },
  {
   "cell_type": "code",
   "execution_count": 8,
   "metadata": {},
   "outputs": [],
   "source": [
    "df_train_cols = list(df_train.columns)\n",
    "df_test_cols = list(df_test.columns)"
   ]
  },
  {
   "cell_type": "markdown",
   "metadata": {},
   "source": [
    "### Use the Train only then split it.\n",
    "As we see, there's no target or output label/response in the Test dataset, therefore we will not use it as a test for the model."
   ]
  },
  {
   "cell_type": "code",
   "execution_count": 9,
   "metadata": {},
   "outputs": [],
   "source": [
    "del(df_test)\n",
    "del(df_test_raw)"
   ]
  },
  {
   "cell_type": "code",
   "execution_count": 10,
   "metadata": {},
   "outputs": [],
   "source": [
    "y = df_train.pop('Response')"
   ]
  },
  {
   "cell_type": "code",
   "execution_count": 11,
   "metadata": {},
   "outputs": [],
   "source": [
    "X = df_train"
   ]
  },
  {
   "cell_type": "code",
   "execution_count": 12,
   "metadata": {},
   "outputs": [],
   "source": [
    "from sklearn.model_selection import train_test_split"
   ]
  },
  {
   "cell_type": "code",
   "execution_count": 13,
   "metadata": {},
   "outputs": [],
   "source": [
    "X_train, X_test, y_train, y_test = train_test_split(X, y, test_size=0.3, random_state=10)"
   ]
  },
  {
   "cell_type": "code",
   "execution_count": 14,
   "metadata": {},
   "outputs": [
    {
     "name": "stdout",
     "output_type": "stream",
     "text": [
      "Train Input data shape: (41566, 126)\n",
      "Train Label data shape: (41566,)\n",
      "Test Input data shape: (17815, 126)\n",
      "Test Label data shape: (17815,)\n"
     ]
    }
   ],
   "source": [
    "print(\"Train Input data shape:\", X_train.shape)\n",
    "print(\"Train Label data shape:\", y_train.shape)\n",
    "print(\"Test Input data shape:\", X_test.shape)\n",
    "print(\"Test Label data shape:\", y_test.shape)"
   ]
  },
  {
   "cell_type": "markdown",
   "metadata": {},
   "source": [
    "## Try using Raw Data"
   ]
  },
  {
   "cell_type": "code",
   "execution_count": 15,
   "metadata": {},
   "outputs": [],
   "source": [
    "from sklearn.ensemble import RandomForestClassifier"
   ]
  },
  {
   "cell_type": "code",
   "execution_count": 16,
   "metadata": {},
   "outputs": [],
   "source": [
    "rfc = RandomForestClassifier(n_estimators=200,\n",
    "                            max_depth=8,\n",
    "                            random_state=10)"
   ]
  },
  {
   "cell_type": "code",
   "execution_count": 17,
   "metadata": {},
   "outputs": [
    {
     "ename": "ValueError",
     "evalue": "could not convert string to float: 'D4'",
     "output_type": "error",
     "traceback": [
      "\u001b[1;31m---------------------------------------------------------------------------\u001b[0m",
      "\u001b[1;31mValueError\u001b[0m                                Traceback (most recent call last)",
      "\u001b[1;32m<ipython-input-17-823e2bba21ee>\u001b[0m in \u001b[0;36m<module>\u001b[1;34m\u001b[0m\n\u001b[1;32m----> 1\u001b[1;33m \u001b[0mrfc\u001b[0m\u001b[1;33m.\u001b[0m\u001b[0mfit\u001b[0m\u001b[1;33m(\u001b[0m\u001b[0mX_train\u001b[0m\u001b[1;33m,\u001b[0m \u001b[0my_train\u001b[0m\u001b[1;33m)\u001b[0m\u001b[1;33m\u001b[0m\u001b[1;33m\u001b[0m\u001b[0m\n\u001b[0m",
      "\u001b[1;32mc:\\users\\reljod\\appdata\\local\\programs\\python\\python36\\lib\\site-packages\\sklearn\\ensemble\\forest.py\u001b[0m in \u001b[0;36mfit\u001b[1;34m(self, X, y, sample_weight)\u001b[0m\n\u001b[0;32m    248\u001b[0m \u001b[1;33m\u001b[0m\u001b[0m\n\u001b[0;32m    249\u001b[0m         \u001b[1;31m# Validate or convert input data\u001b[0m\u001b[1;33m\u001b[0m\u001b[1;33m\u001b[0m\u001b[1;33m\u001b[0m\u001b[0m\n\u001b[1;32m--> 250\u001b[1;33m         \u001b[0mX\u001b[0m \u001b[1;33m=\u001b[0m \u001b[0mcheck_array\u001b[0m\u001b[1;33m(\u001b[0m\u001b[0mX\u001b[0m\u001b[1;33m,\u001b[0m \u001b[0maccept_sparse\u001b[0m\u001b[1;33m=\u001b[0m\u001b[1;34m\"csc\"\u001b[0m\u001b[1;33m,\u001b[0m \u001b[0mdtype\u001b[0m\u001b[1;33m=\u001b[0m\u001b[0mDTYPE\u001b[0m\u001b[1;33m)\u001b[0m\u001b[1;33m\u001b[0m\u001b[1;33m\u001b[0m\u001b[0m\n\u001b[0m\u001b[0;32m    251\u001b[0m         \u001b[0my\u001b[0m \u001b[1;33m=\u001b[0m \u001b[0mcheck_array\u001b[0m\u001b[1;33m(\u001b[0m\u001b[0my\u001b[0m\u001b[1;33m,\u001b[0m \u001b[0maccept_sparse\u001b[0m\u001b[1;33m=\u001b[0m\u001b[1;34m'csc'\u001b[0m\u001b[1;33m,\u001b[0m \u001b[0mensure_2d\u001b[0m\u001b[1;33m=\u001b[0m\u001b[1;32mFalse\u001b[0m\u001b[1;33m,\u001b[0m \u001b[0mdtype\u001b[0m\u001b[1;33m=\u001b[0m\u001b[1;32mNone\u001b[0m\u001b[1;33m)\u001b[0m\u001b[1;33m\u001b[0m\u001b[1;33m\u001b[0m\u001b[0m\n\u001b[0;32m    252\u001b[0m         \u001b[1;32mif\u001b[0m \u001b[0msample_weight\u001b[0m \u001b[1;32mis\u001b[0m \u001b[1;32mnot\u001b[0m \u001b[1;32mNone\u001b[0m\u001b[1;33m:\u001b[0m\u001b[1;33m\u001b[0m\u001b[1;33m\u001b[0m\u001b[0m\n",
      "\u001b[1;32mc:\\users\\reljod\\appdata\\local\\programs\\python\\python36\\lib\\site-packages\\sklearn\\utils\\validation.py\u001b[0m in \u001b[0;36mcheck_array\u001b[1;34m(array, accept_sparse, accept_large_sparse, dtype, order, copy, force_all_finite, ensure_2d, allow_nd, ensure_min_samples, ensure_min_features, warn_on_dtype, estimator)\u001b[0m\n\u001b[0;32m    525\u001b[0m             \u001b[1;32mtry\u001b[0m\u001b[1;33m:\u001b[0m\u001b[1;33m\u001b[0m\u001b[1;33m\u001b[0m\u001b[0m\n\u001b[0;32m    526\u001b[0m                 \u001b[0mwarnings\u001b[0m\u001b[1;33m.\u001b[0m\u001b[0msimplefilter\u001b[0m\u001b[1;33m(\u001b[0m\u001b[1;34m'error'\u001b[0m\u001b[1;33m,\u001b[0m \u001b[0mComplexWarning\u001b[0m\u001b[1;33m)\u001b[0m\u001b[1;33m\u001b[0m\u001b[1;33m\u001b[0m\u001b[0m\n\u001b[1;32m--> 527\u001b[1;33m                 \u001b[0marray\u001b[0m \u001b[1;33m=\u001b[0m \u001b[0mnp\u001b[0m\u001b[1;33m.\u001b[0m\u001b[0masarray\u001b[0m\u001b[1;33m(\u001b[0m\u001b[0marray\u001b[0m\u001b[1;33m,\u001b[0m \u001b[0mdtype\u001b[0m\u001b[1;33m=\u001b[0m\u001b[0mdtype\u001b[0m\u001b[1;33m,\u001b[0m \u001b[0morder\u001b[0m\u001b[1;33m=\u001b[0m\u001b[0morder\u001b[0m\u001b[1;33m)\u001b[0m\u001b[1;33m\u001b[0m\u001b[1;33m\u001b[0m\u001b[0m\n\u001b[0m\u001b[0;32m    528\u001b[0m             \u001b[1;32mexcept\u001b[0m \u001b[0mComplexWarning\u001b[0m\u001b[1;33m:\u001b[0m\u001b[1;33m\u001b[0m\u001b[1;33m\u001b[0m\u001b[0m\n\u001b[0;32m    529\u001b[0m                 raise ValueError(\"Complex data not supported\\n\"\n",
      "\u001b[1;32mc:\\users\\reljod\\appdata\\local\\programs\\python\\python36\\lib\\site-packages\\numpy\\core\\numeric.py\u001b[0m in \u001b[0;36masarray\u001b[1;34m(a, dtype, order)\u001b[0m\n\u001b[0;32m    536\u001b[0m \u001b[1;33m\u001b[0m\u001b[0m\n\u001b[0;32m    537\u001b[0m     \"\"\"\n\u001b[1;32m--> 538\u001b[1;33m     \u001b[1;32mreturn\u001b[0m \u001b[0marray\u001b[0m\u001b[1;33m(\u001b[0m\u001b[0ma\u001b[0m\u001b[1;33m,\u001b[0m \u001b[0mdtype\u001b[0m\u001b[1;33m,\u001b[0m \u001b[0mcopy\u001b[0m\u001b[1;33m=\u001b[0m\u001b[1;32mFalse\u001b[0m\u001b[1;33m,\u001b[0m \u001b[0morder\u001b[0m\u001b[1;33m=\u001b[0m\u001b[0morder\u001b[0m\u001b[1;33m)\u001b[0m\u001b[1;33m\u001b[0m\u001b[1;33m\u001b[0m\u001b[0m\n\u001b[0m\u001b[0;32m    539\u001b[0m \u001b[1;33m\u001b[0m\u001b[0m\n\u001b[0;32m    540\u001b[0m \u001b[1;33m\u001b[0m\u001b[0m\n",
      "\u001b[1;31mValueError\u001b[0m: could not convert string to float: 'D4'"
     ]
    }
   ],
   "source": [
    "rfc.fit(X_train, y_train)"
   ]
  },
  {
   "cell_type": "markdown",
   "metadata": {},
   "source": [
    "## Why is there a Error?\n",
    "<i>ValueError: could not convert string to float: 'D4'</i> means that the data has some <b>object or string type data</b>. That type of data can't be processed and need to be converted to numerical data.\n",
    "So, we need to convert first the <b>categorical data</b> into a <b>numerical data</b>\n",
    "<br><br>\n",
    "Looking at the data again, we can see the categorical data in <i>Product_Info_2.</i>\n",
    "<br><br>\n",
    "So what do we need to do? <b>Clean the Data</b>"
   ]
  },
  {
   "cell_type": "code",
   "execution_count": 18,
   "metadata": {
    "scrolled": true
   },
   "outputs": [
    {
     "data": {
      "text/html": [
       "<div>\n",
       "<style scoped>\n",
       "    .dataframe tbody tr th:only-of-type {\n",
       "        vertical-align: middle;\n",
       "    }\n",
       "\n",
       "    .dataframe tbody tr th {\n",
       "        vertical-align: top;\n",
       "    }\n",
       "\n",
       "    .dataframe thead th {\n",
       "        text-align: right;\n",
       "    }\n",
       "</style>\n",
       "<table border=\"1\" class=\"dataframe\">\n",
       "  <thead>\n",
       "    <tr style=\"text-align: right;\">\n",
       "      <th></th>\n",
       "      <th>Product_Info_1</th>\n",
       "      <th>Product_Info_2</th>\n",
       "      <th>Product_Info_3</th>\n",
       "      <th>Product_Info_4</th>\n",
       "      <th>Product_Info_5</th>\n",
       "      <th>Product_Info_6</th>\n",
       "      <th>Product_Info_7</th>\n",
       "      <th>Ins_Age</th>\n",
       "      <th>Ht</th>\n",
       "      <th>Wt</th>\n",
       "      <th>...</th>\n",
       "      <th>Medical_Keyword_39</th>\n",
       "      <th>Medical_Keyword_40</th>\n",
       "      <th>Medical_Keyword_41</th>\n",
       "      <th>Medical_Keyword_42</th>\n",
       "      <th>Medical_Keyword_43</th>\n",
       "      <th>Medical_Keyword_44</th>\n",
       "      <th>Medical_Keyword_45</th>\n",
       "      <th>Medical_Keyword_46</th>\n",
       "      <th>Medical_Keyword_47</th>\n",
       "      <th>Medical_Keyword_48</th>\n",
       "    </tr>\n",
       "    <tr>\n",
       "      <th>Id</th>\n",
       "      <th></th>\n",
       "      <th></th>\n",
       "      <th></th>\n",
       "      <th></th>\n",
       "      <th></th>\n",
       "      <th></th>\n",
       "      <th></th>\n",
       "      <th></th>\n",
       "      <th></th>\n",
       "      <th></th>\n",
       "      <th></th>\n",
       "      <th></th>\n",
       "      <th></th>\n",
       "      <th></th>\n",
       "      <th></th>\n",
       "      <th></th>\n",
       "      <th></th>\n",
       "      <th></th>\n",
       "      <th></th>\n",
       "      <th></th>\n",
       "      <th></th>\n",
       "    </tr>\n",
       "  </thead>\n",
       "  <tbody>\n",
       "    <tr>\n",
       "      <th>59759</th>\n",
       "      <td>1</td>\n",
       "      <td>D4</td>\n",
       "      <td>29</td>\n",
       "      <td>0.230769</td>\n",
       "      <td>2</td>\n",
       "      <td>3</td>\n",
       "      <td>1</td>\n",
       "      <td>0.119403</td>\n",
       "      <td>0.745455</td>\n",
       "      <td>0.320084</td>\n",
       "      <td>...</td>\n",
       "      <td>0</td>\n",
       "      <td>0</td>\n",
       "      <td>0</td>\n",
       "      <td>1</td>\n",
       "      <td>0</td>\n",
       "      <td>0</td>\n",
       "      <td>0</td>\n",
       "      <td>0</td>\n",
       "      <td>0</td>\n",
       "      <td>0</td>\n",
       "    </tr>\n",
       "    <tr>\n",
       "      <th>25815</th>\n",
       "      <td>1</td>\n",
       "      <td>D4</td>\n",
       "      <td>26</td>\n",
       "      <td>0.076923</td>\n",
       "      <td>2</td>\n",
       "      <td>3</td>\n",
       "      <td>1</td>\n",
       "      <td>0.402985</td>\n",
       "      <td>0.672727</td>\n",
       "      <td>0.246862</td>\n",
       "      <td>...</td>\n",
       "      <td>0</td>\n",
       "      <td>0</td>\n",
       "      <td>0</td>\n",
       "      <td>0</td>\n",
       "      <td>0</td>\n",
       "      <td>0</td>\n",
       "      <td>0</td>\n",
       "      <td>0</td>\n",
       "      <td>0</td>\n",
       "      <td>0</td>\n",
       "    </tr>\n",
       "    <tr>\n",
       "      <th>8183</th>\n",
       "      <td>1</td>\n",
       "      <td>A1</td>\n",
       "      <td>26</td>\n",
       "      <td>0.102564</td>\n",
       "      <td>2</td>\n",
       "      <td>1</td>\n",
       "      <td>1</td>\n",
       "      <td>0.059701</td>\n",
       "      <td>0.672727</td>\n",
       "      <td>0.184100</td>\n",
       "      <td>...</td>\n",
       "      <td>0</td>\n",
       "      <td>0</td>\n",
       "      <td>0</td>\n",
       "      <td>0</td>\n",
       "      <td>0</td>\n",
       "      <td>0</td>\n",
       "      <td>0</td>\n",
       "      <td>0</td>\n",
       "      <td>0</td>\n",
       "      <td>0</td>\n",
       "    </tr>\n",
       "    <tr>\n",
       "      <th>77468</th>\n",
       "      <td>1</td>\n",
       "      <td>A8</td>\n",
       "      <td>29</td>\n",
       "      <td>0.025641</td>\n",
       "      <td>2</td>\n",
       "      <td>3</td>\n",
       "      <td>1</td>\n",
       "      <td>0.462687</td>\n",
       "      <td>0.781818</td>\n",
       "      <td>0.299163</td>\n",
       "      <td>...</td>\n",
       "      <td>0</td>\n",
       "      <td>0</td>\n",
       "      <td>0</td>\n",
       "      <td>0</td>\n",
       "      <td>0</td>\n",
       "      <td>0</td>\n",
       "      <td>0</td>\n",
       "      <td>0</td>\n",
       "      <td>0</td>\n",
       "      <td>0</td>\n",
       "    </tr>\n",
       "    <tr>\n",
       "      <th>76832</th>\n",
       "      <td>1</td>\n",
       "      <td>E1</td>\n",
       "      <td>26</td>\n",
       "      <td>0.230769</td>\n",
       "      <td>2</td>\n",
       "      <td>3</td>\n",
       "      <td>1</td>\n",
       "      <td>0.134328</td>\n",
       "      <td>0.654545</td>\n",
       "      <td>0.205021</td>\n",
       "      <td>...</td>\n",
       "      <td>0</td>\n",
       "      <td>0</td>\n",
       "      <td>0</td>\n",
       "      <td>1</td>\n",
       "      <td>0</td>\n",
       "      <td>0</td>\n",
       "      <td>0</td>\n",
       "      <td>0</td>\n",
       "      <td>0</td>\n",
       "      <td>0</td>\n",
       "    </tr>\n",
       "  </tbody>\n",
       "</table>\n",
       "<p>5 rows × 126 columns</p>\n",
       "</div>"
      ],
      "text/plain": [
       "       Product_Info_1 Product_Info_2  Product_Info_3  Product_Info_4  \\\n",
       "Id                                                                     \n",
       "59759               1             D4              29        0.230769   \n",
       "25815               1             D4              26        0.076923   \n",
       "8183                1             A1              26        0.102564   \n",
       "77468               1             A8              29        0.025641   \n",
       "76832               1             E1              26        0.230769   \n",
       "\n",
       "       Product_Info_5  Product_Info_6  Product_Info_7   Ins_Age        Ht  \\\n",
       "Id                                                                          \n",
       "59759               2               3               1  0.119403  0.745455   \n",
       "25815               2               3               1  0.402985  0.672727   \n",
       "8183                2               1               1  0.059701  0.672727   \n",
       "77468               2               3               1  0.462687  0.781818   \n",
       "76832               2               3               1  0.134328  0.654545   \n",
       "\n",
       "             Wt  ...  Medical_Keyword_39  Medical_Keyword_40  \\\n",
       "Id               ...                                           \n",
       "59759  0.320084  ...                   0                   0   \n",
       "25815  0.246862  ...                   0                   0   \n",
       "8183   0.184100  ...                   0                   0   \n",
       "77468  0.299163  ...                   0                   0   \n",
       "76832  0.205021  ...                   0                   0   \n",
       "\n",
       "       Medical_Keyword_41  Medical_Keyword_42  Medical_Keyword_43  \\\n",
       "Id                                                                  \n",
       "59759                   0                   1                   0   \n",
       "25815                   0                   0                   0   \n",
       "8183                    0                   0                   0   \n",
       "77468                   0                   0                   0   \n",
       "76832                   0                   1                   0   \n",
       "\n",
       "       Medical_Keyword_44  Medical_Keyword_45  Medical_Keyword_46  \\\n",
       "Id                                                                  \n",
       "59759                   0                   0                   0   \n",
       "25815                   0                   0                   0   \n",
       "8183                    0                   0                   0   \n",
       "77468                   0                   0                   0   \n",
       "76832                   0                   0                   0   \n",
       "\n",
       "       Medical_Keyword_47  Medical_Keyword_48  \n",
       "Id                                             \n",
       "59759                   0                   0  \n",
       "25815                   0                   0  \n",
       "8183                    0                   0  \n",
       "77468                   0                   0  \n",
       "76832                   0                   0  \n",
       "\n",
       "[5 rows x 126 columns]"
      ]
     },
     "execution_count": 18,
     "metadata": {},
     "output_type": "execute_result"
    }
   ],
   "source": [
    "#Looking at the data again, we can see the categorical data in Product_Info_2\n",
    "X_train.head()"
   ]
  },
  {
   "cell_type": "markdown",
   "metadata": {},
   "source": [
    "## Data Cleaning"
   ]
  },
  {
   "cell_type": "code",
   "execution_count": 19,
   "metadata": {},
   "outputs": [
    {
     "name": "stdout",
     "output_type": "stream",
     "text": [
      "<class 'pandas.core.frame.DataFrame'>\n",
      "Int64Index: 41566 entries, 59759 to 23552\n",
      "Columns: 126 entries, Product_Info_1 to Medical_Keyword_48\n",
      "dtypes: float64(18), int64(107), object(1)\n",
      "memory usage: 40.3+ MB\n"
     ]
    }
   ],
   "source": [
    "X_train.info()\n",
    "#Looking at the info, there's only 1 column that needs to be converted from numerical to categorical"
   ]
  },
  {
   "cell_type": "markdown",
   "metadata": {},
   "source": [
    "### Convert Categorical Data to Numerical Data"
   ]
  },
  {
   "cell_type": "code",
   "execution_count": 20,
   "metadata": {},
   "outputs": [],
   "source": [
    "from sklearn.preprocessing import LabelEncoder"
   ]
  },
  {
   "cell_type": "code",
   "execution_count": 21,
   "metadata": {},
   "outputs": [
    {
     "name": "stdout",
     "output_type": "stream",
     "text": [
      "Unique Value counts:\n",
      " D3    10082\n",
      "D4     7471\n",
      "A8     4802\n",
      "D1     4642\n",
      "D2     4399\n",
      "E1     1857\n",
      "A1     1638\n",
      "A6     1486\n",
      "A2     1342\n",
      "A7      969\n",
      "B2      786\n",
      "A3      688\n",
      "A5      547\n",
      "C3      215\n",
      "C1      199\n",
      "C4      152\n",
      "A4      147\n",
      "C2      106\n",
      "B1       38\n",
      "Name: Product_Info_2, dtype: int64\n"
     ]
    }
   ],
   "source": [
    "#Look for unique values and check if how many categories are there\n",
    "print(\"Unique Value counts:\\n\",X_train[\"Product_Info_2\"].value_counts())"
   ]
  },
  {
   "cell_type": "code",
   "execution_count": 22,
   "metadata": {},
   "outputs": [],
   "source": [
    "prod_info2 = X_train[\"Product_Info_2\"]"
   ]
  },
  {
   "cell_type": "code",
   "execution_count": 23,
   "metadata": {},
   "outputs": [
    {
     "data": {
      "text/plain": [
       "D3    10082\n",
       "D4     7471\n",
       "A8     4802\n",
       "D1     4642\n",
       "D2     4399\n",
       "E1     1857\n",
       "A1     1638\n",
       "A6     1486\n",
       "A2     1342\n",
       "A7      969\n",
       "B2      786\n",
       "A3      688\n",
       "A5      547\n",
       "C3      215\n",
       "C1      199\n",
       "C4      152\n",
       "A4      147\n",
       "C2      106\n",
       "B1       38\n",
       "Name: Product_Info_2, dtype: int64"
      ]
     },
     "execution_count": 23,
     "metadata": {},
     "output_type": "execute_result"
    }
   ],
   "source": [
    "prod_info2.value_counts()"
   ]
  },
  {
   "cell_type": "markdown",
   "metadata": {},
   "source": [
    "## Create a function for converting categorical data to numerical"
   ]
  },
  {
   "cell_type": "code",
   "execution_count": 24,
   "metadata": {},
   "outputs": [],
   "source": [
    "def categorical_to_numerical(dataframe, name):\n",
    "    series = dataframe.pop(name)\n",
    "    le = LabelEncoder()\n",
    "    le_numpy = le.fit_transform(series)\n",
    "    le_df = pd.DataFrame(le_numpy, columns=[\"le_\"+name])\n",
    "    le_df.set_index(dataframe.index, inplace=True)\n",
    "    return pd.concat([dataframe, le_df], axis=1)"
   ]
  },
  {
   "cell_type": "code",
   "execution_count": 25,
   "metadata": {},
   "outputs": [],
   "source": [
    "X_train1 = categorical_to_numerical(X_train, 'Product_Info_2')\n",
    "X_test1 = categorical_to_numerical(X_test, 'Product_Info_2')"
   ]
  },
  {
   "cell_type": "code",
   "execution_count": 30,
   "metadata": {},
   "outputs": [
    {
     "name": "stdout",
     "output_type": "stream",
     "text": [
      "Input train shape: (41566, 126)\n",
      "Input test shape: (17815, 126)\n"
     ]
    }
   ],
   "source": [
    "#check if still the same shape\n",
    "print(\"Input train shape:\",X_train1.shape)\n",
    "print(\"Input test shape:\", X_test1.shape)"
   ]
  },
  {
   "cell_type": "markdown",
   "metadata": {},
   "source": [
    "## Try inputting the data to the model"
   ]
  },
  {
   "cell_type": "code",
   "execution_count": 31,
   "metadata": {},
   "outputs": [],
   "source": [
    "rfc = RandomForestClassifier(n_estimators=200,\n",
    "                            max_depth=8,\n",
    "                            random_state=10)"
   ]
  },
  {
   "cell_type": "code",
   "execution_count": 32,
   "metadata": {},
   "outputs": [
    {
     "ename": "ValueError",
     "evalue": "Input contains NaN, infinity or a value too large for dtype('float32').",
     "output_type": "error",
     "traceback": [
      "\u001b[1;31m---------------------------------------------------------------------------\u001b[0m",
      "\u001b[1;31mValueError\u001b[0m                                Traceback (most recent call last)",
      "\u001b[1;32m<ipython-input-32-b02fa015e201>\u001b[0m in \u001b[0;36m<module>\u001b[1;34m\u001b[0m\n\u001b[1;32m----> 1\u001b[1;33m \u001b[0mrfc\u001b[0m\u001b[1;33m.\u001b[0m\u001b[0mfit\u001b[0m\u001b[1;33m(\u001b[0m\u001b[0mX_train1\u001b[0m\u001b[1;33m,\u001b[0m \u001b[0my_train\u001b[0m\u001b[1;33m)\u001b[0m\u001b[1;33m\u001b[0m\u001b[1;33m\u001b[0m\u001b[0m\n\u001b[0m",
      "\u001b[1;32mc:\\users\\reljod\\appdata\\local\\programs\\python\\python36\\lib\\site-packages\\sklearn\\ensemble\\forest.py\u001b[0m in \u001b[0;36mfit\u001b[1;34m(self, X, y, sample_weight)\u001b[0m\n\u001b[0;32m    248\u001b[0m \u001b[1;33m\u001b[0m\u001b[0m\n\u001b[0;32m    249\u001b[0m         \u001b[1;31m# Validate or convert input data\u001b[0m\u001b[1;33m\u001b[0m\u001b[1;33m\u001b[0m\u001b[1;33m\u001b[0m\u001b[0m\n\u001b[1;32m--> 250\u001b[1;33m         \u001b[0mX\u001b[0m \u001b[1;33m=\u001b[0m \u001b[0mcheck_array\u001b[0m\u001b[1;33m(\u001b[0m\u001b[0mX\u001b[0m\u001b[1;33m,\u001b[0m \u001b[0maccept_sparse\u001b[0m\u001b[1;33m=\u001b[0m\u001b[1;34m\"csc\"\u001b[0m\u001b[1;33m,\u001b[0m \u001b[0mdtype\u001b[0m\u001b[1;33m=\u001b[0m\u001b[0mDTYPE\u001b[0m\u001b[1;33m)\u001b[0m\u001b[1;33m\u001b[0m\u001b[1;33m\u001b[0m\u001b[0m\n\u001b[0m\u001b[0;32m    251\u001b[0m         \u001b[0my\u001b[0m \u001b[1;33m=\u001b[0m \u001b[0mcheck_array\u001b[0m\u001b[1;33m(\u001b[0m\u001b[0my\u001b[0m\u001b[1;33m,\u001b[0m \u001b[0maccept_sparse\u001b[0m\u001b[1;33m=\u001b[0m\u001b[1;34m'csc'\u001b[0m\u001b[1;33m,\u001b[0m \u001b[0mensure_2d\u001b[0m\u001b[1;33m=\u001b[0m\u001b[1;32mFalse\u001b[0m\u001b[1;33m,\u001b[0m \u001b[0mdtype\u001b[0m\u001b[1;33m=\u001b[0m\u001b[1;32mNone\u001b[0m\u001b[1;33m)\u001b[0m\u001b[1;33m\u001b[0m\u001b[1;33m\u001b[0m\u001b[0m\n\u001b[0;32m    252\u001b[0m         \u001b[1;32mif\u001b[0m \u001b[0msample_weight\u001b[0m \u001b[1;32mis\u001b[0m \u001b[1;32mnot\u001b[0m \u001b[1;32mNone\u001b[0m\u001b[1;33m:\u001b[0m\u001b[1;33m\u001b[0m\u001b[1;33m\u001b[0m\u001b[0m\n",
      "\u001b[1;32mc:\\users\\reljod\\appdata\\local\\programs\\python\\python36\\lib\\site-packages\\sklearn\\utils\\validation.py\u001b[0m in \u001b[0;36mcheck_array\u001b[1;34m(array, accept_sparse, accept_large_sparse, dtype, order, copy, force_all_finite, ensure_2d, allow_nd, ensure_min_samples, ensure_min_features, warn_on_dtype, estimator)\u001b[0m\n\u001b[0;32m    571\u001b[0m         \u001b[1;32mif\u001b[0m \u001b[0mforce_all_finite\u001b[0m\u001b[1;33m:\u001b[0m\u001b[1;33m\u001b[0m\u001b[1;33m\u001b[0m\u001b[0m\n\u001b[0;32m    572\u001b[0m             _assert_all_finite(array,\n\u001b[1;32m--> 573\u001b[1;33m                                allow_nan=force_all_finite == 'allow-nan')\n\u001b[0m\u001b[0;32m    574\u001b[0m \u001b[1;33m\u001b[0m\u001b[0m\n\u001b[0;32m    575\u001b[0m     \u001b[0mshape_repr\u001b[0m \u001b[1;33m=\u001b[0m \u001b[0m_shape_repr\u001b[0m\u001b[1;33m(\u001b[0m\u001b[0marray\u001b[0m\u001b[1;33m.\u001b[0m\u001b[0mshape\u001b[0m\u001b[1;33m)\u001b[0m\u001b[1;33m\u001b[0m\u001b[1;33m\u001b[0m\u001b[0m\n",
      "\u001b[1;32mc:\\users\\reljod\\appdata\\local\\programs\\python\\python36\\lib\\site-packages\\sklearn\\utils\\validation.py\u001b[0m in \u001b[0;36m_assert_all_finite\u001b[1;34m(X, allow_nan)\u001b[0m\n\u001b[0;32m     54\u001b[0m                 not allow_nan and not np.isfinite(X).all()):\n\u001b[0;32m     55\u001b[0m             \u001b[0mtype_err\u001b[0m \u001b[1;33m=\u001b[0m \u001b[1;34m'infinity'\u001b[0m \u001b[1;32mif\u001b[0m \u001b[0mallow_nan\u001b[0m \u001b[1;32melse\u001b[0m \u001b[1;34m'NaN, infinity'\u001b[0m\u001b[1;33m\u001b[0m\u001b[1;33m\u001b[0m\u001b[0m\n\u001b[1;32m---> 56\u001b[1;33m             \u001b[1;32mraise\u001b[0m \u001b[0mValueError\u001b[0m\u001b[1;33m(\u001b[0m\u001b[0mmsg_err\u001b[0m\u001b[1;33m.\u001b[0m\u001b[0mformat\u001b[0m\u001b[1;33m(\u001b[0m\u001b[0mtype_err\u001b[0m\u001b[1;33m,\u001b[0m \u001b[0mX\u001b[0m\u001b[1;33m.\u001b[0m\u001b[0mdtype\u001b[0m\u001b[1;33m)\u001b[0m\u001b[1;33m)\u001b[0m\u001b[1;33m\u001b[0m\u001b[1;33m\u001b[0m\u001b[0m\n\u001b[0m\u001b[0;32m     57\u001b[0m \u001b[1;33m\u001b[0m\u001b[0m\n\u001b[0;32m     58\u001b[0m \u001b[1;33m\u001b[0m\u001b[0m\n",
      "\u001b[1;31mValueError\u001b[0m: Input contains NaN, infinity or a value too large for dtype('float32')."
     ]
    }
   ],
   "source": [
    "rfc.fit(X_train1, y_train)"
   ]
  },
  {
   "cell_type": "markdown",
   "metadata": {},
   "source": [
    "## There's still an Error?? Why?\n",
    "<br>\n",
    "<i>ValueError: Input contains NaN, infinity or a value too large for dtype('float32').</i><br>\n",
    "The error might mean that the input value has some values of NaN (Not a Number), an infinity or a value that is too large for the dtype.<br> \n",
    "So, we must convert first those value into a suitable value.\n",
    "\n",
    "We can drop, fill, or replace the value to eliminate those undesired values "
   ]
  },
  {
   "cell_type": "code",
   "execution_count": 33,
   "metadata": {},
   "outputs": [
    {
     "name": "stdout",
     "output_type": "stream",
     "text": [
      "<class 'pandas.core.frame.DataFrame'>\n",
      "Int64Index: 41566 entries, 59759 to 23552\n",
      "Data columns (total 126 columns):\n",
      "Product_Info_1         41566 non-null int64\n",
      "Product_Info_3         41566 non-null int64\n",
      "Product_Info_4         41566 non-null float64\n",
      "Product_Info_5         41566 non-null int64\n",
      "Product_Info_6         41566 non-null int64\n",
      "Product_Info_7         41566 non-null int64\n",
      "Ins_Age                41566 non-null float64\n",
      "Ht                     41566 non-null float64\n",
      "Wt                     41566 non-null float64\n",
      "BMI                    41566 non-null float64\n",
      "Employment_Info_1      41553 non-null float64\n",
      "Employment_Info_2      41566 non-null int64\n",
      "Employment_Info_3      41566 non-null int64\n",
      "Employment_Info_4      36820 non-null float64\n",
      "Employment_Info_5      41566 non-null int64\n",
      "Employment_Info_6      34053 non-null float64\n",
      "InsuredInfo_1          41566 non-null int64\n",
      "InsuredInfo_2          41566 non-null int64\n",
      "InsuredInfo_3          41566 non-null int64\n",
      "InsuredInfo_4          41566 non-null int64\n",
      "InsuredInfo_5          41566 non-null int64\n",
      "InsuredInfo_6          41566 non-null int64\n",
      "InsuredInfo_7          41566 non-null int64\n",
      "Insurance_History_1    41566 non-null int64\n",
      "Insurance_History_2    41566 non-null int64\n",
      "Insurance_History_3    41566 non-null int64\n",
      "Insurance_History_4    41566 non-null int64\n",
      "Insurance_History_5    23838 non-null float64\n",
      "Insurance_History_7    41566 non-null int64\n",
      "Insurance_History_8    41566 non-null int64\n",
      "Insurance_History_9    41566 non-null int64\n",
      "Family_Hist_1          41566 non-null int64\n",
      "Family_Hist_2          21460 non-null float64\n",
      "Family_Hist_3          17655 non-null float64\n",
      "Family_Hist_4          28076 non-null float64\n",
      "Family_Hist_5          12360 non-null float64\n",
      "Medical_History_1      35344 non-null float64\n",
      "Medical_History_2      41566 non-null int64\n",
      "Medical_History_3      41566 non-null int64\n",
      "Medical_History_4      41566 non-null int64\n",
      "Medical_History_5      41566 non-null int64\n",
      "Medical_History_6      41566 non-null int64\n",
      "Medical_History_7      41566 non-null int64\n",
      "Medical_History_8      41566 non-null int64\n",
      "Medical_History_9      41566 non-null int64\n",
      "Medical_History_10     381 non-null float64\n",
      "Medical_History_11     41566 non-null int64\n",
      "Medical_History_12     41566 non-null int64\n",
      "Medical_History_13     41566 non-null int64\n",
      "Medical_History_14     41566 non-null int64\n",
      "Medical_History_15     10442 non-null float64\n",
      "Medical_History_16     41566 non-null int64\n",
      "Medical_History_17     41566 non-null int64\n",
      "Medical_History_18     41566 non-null int64\n",
      "Medical_History_19     41566 non-null int64\n",
      "Medical_History_20     41566 non-null int64\n",
      "Medical_History_21     41566 non-null int64\n",
      "Medical_History_22     41566 non-null int64\n",
      "Medical_History_23     41566 non-null int64\n",
      "Medical_History_24     2674 non-null float64\n",
      "Medical_History_25     41566 non-null int64\n",
      "Medical_History_26     41566 non-null int64\n",
      "Medical_History_27     41566 non-null int64\n",
      "Medical_History_28     41566 non-null int64\n",
      "Medical_History_29     41566 non-null int64\n",
      "Medical_History_30     41566 non-null int64\n",
      "Medical_History_31     41566 non-null int64\n",
      "Medical_History_32     796 non-null float64\n",
      "Medical_History_33     41566 non-null int64\n",
      "Medical_History_34     41566 non-null int64\n",
      "Medical_History_35     41566 non-null int64\n",
      "Medical_History_36     41566 non-null int64\n",
      "Medical_History_37     41566 non-null int64\n",
      "Medical_History_38     41566 non-null int64\n",
      "Medical_History_39     41566 non-null int64\n",
      "Medical_History_40     41566 non-null int64\n",
      "Medical_History_41     41566 non-null int64\n",
      "Medical_Keyword_1      41566 non-null int64\n",
      "Medical_Keyword_2      41566 non-null int64\n",
      "Medical_Keyword_3      41566 non-null int64\n",
      "Medical_Keyword_4      41566 non-null int64\n",
      "Medical_Keyword_5      41566 non-null int64\n",
      "Medical_Keyword_6      41566 non-null int64\n",
      "Medical_Keyword_7      41566 non-null int64\n",
      "Medical_Keyword_8      41566 non-null int64\n",
      "Medical_Keyword_9      41566 non-null int64\n",
      "Medical_Keyword_10     41566 non-null int64\n",
      "Medical_Keyword_11     41566 non-null int64\n",
      "Medical_Keyword_12     41566 non-null int64\n",
      "Medical_Keyword_13     41566 non-null int64\n",
      "Medical_Keyword_14     41566 non-null int64\n",
      "Medical_Keyword_15     41566 non-null int64\n",
      "Medical_Keyword_16     41566 non-null int64\n",
      "Medical_Keyword_17     41566 non-null int64\n",
      "Medical_Keyword_18     41566 non-null int64\n",
      "Medical_Keyword_19     41566 non-null int64\n",
      "Medical_Keyword_20     41566 non-null int64\n",
      "Medical_Keyword_21     41566 non-null int64\n",
      "Medical_Keyword_22     41566 non-null int64\n",
      "Medical_Keyword_23     41566 non-null int64\n",
      "Medical_Keyword_24     41566 non-null int64\n",
      "Medical_Keyword_25     41566 non-null int64\n",
      "Medical_Keyword_26     41566 non-null int64\n",
      "Medical_Keyword_27     41566 non-null int64\n",
      "Medical_Keyword_28     41566 non-null int64\n",
      "Medical_Keyword_29     41566 non-null int64\n",
      "Medical_Keyword_30     41566 non-null int64\n",
      "Medical_Keyword_31     41566 non-null int64\n",
      "Medical_Keyword_32     41566 non-null int64\n",
      "Medical_Keyword_33     41566 non-null int64\n",
      "Medical_Keyword_34     41566 non-null int64\n",
      "Medical_Keyword_35     41566 non-null int64\n",
      "Medical_Keyword_36     41566 non-null int64\n",
      "Medical_Keyword_37     41566 non-null int64\n",
      "Medical_Keyword_38     41566 non-null int64\n",
      "Medical_Keyword_39     41566 non-null int64\n",
      "Medical_Keyword_40     41566 non-null int64\n",
      "Medical_Keyword_41     41566 non-null int64\n",
      "Medical_Keyword_42     41566 non-null int64\n",
      "Medical_Keyword_43     41566 non-null int64\n",
      "Medical_Keyword_44     41566 non-null int64\n",
      "Medical_Keyword_45     41566 non-null int64\n",
      "Medical_Keyword_46     41566 non-null int64\n",
      "Medical_Keyword_47     41566 non-null int64\n",
      "Medical_Keyword_48     41566 non-null int64\n",
      "le_Product_Info_2      41566 non-null int32\n",
      "dtypes: float64(18), int32(1), int64(107)\n",
      "memory usage: 40.1 MB\n"
     ]
    }
   ],
   "source": [
    "# Check the columns that have a NaN Values\n",
    "X_train1.info(max_cols=len(X_train1.columns))"
   ]
  },
  {
   "cell_type": "code",
   "execution_count": 34,
   "metadata": {},
   "outputs": [
    {
     "data": {
      "text/plain": [
       "Employment_Info_1         13\n",
       "Employment_Info_4       4746\n",
       "Employment_Info_6       7513\n",
       "Insurance_History_5    17728\n",
       "Family_Hist_2          20106\n",
       "Family_Hist_3          23911\n",
       "Family_Hist_4          13490\n",
       "Family_Hist_5          29206\n",
       "Medical_History_1       6222\n",
       "Medical_History_10     41185\n",
       "Medical_History_15     31124\n",
       "Medical_History_24     38892\n",
       "Medical_History_32     40770\n",
       "dtype: int64"
      ]
     },
     "execution_count": 34,
     "metadata": {},
     "output_type": "execute_result"
    }
   ],
   "source": [
    "#Getting the columns that contains null values or NaN\n",
    "na_cols = X_train1.columns[X_train1.isnull().any()].tolist()\n",
    "df_na_cols = X_train1.loc[:,na_cols]\n",
    "df_na_cols.isnull().sum()"
   ]
  },
  {
   "cell_type": "code",
   "execution_count": 35,
   "metadata": {},
   "outputs": [
    {
     "name": "stdout",
     "output_type": "stream",
     "text": [
      "<class 'pandas.core.frame.DataFrame'>\n",
      "Int64Index: 41566 entries, 59759 to 23552\n",
      "Data columns (total 13 columns):\n",
      "Employment_Info_1      41553 non-null float64\n",
      "Employment_Info_4      36820 non-null float64\n",
      "Employment_Info_6      34053 non-null float64\n",
      "Insurance_History_5    23838 non-null float64\n",
      "Family_Hist_2          21460 non-null float64\n",
      "Family_Hist_3          17655 non-null float64\n",
      "Family_Hist_4          28076 non-null float64\n",
      "Family_Hist_5          12360 non-null float64\n",
      "Medical_History_1      35344 non-null float64\n",
      "Medical_History_10     381 non-null float64\n",
      "Medical_History_15     10442 non-null float64\n",
      "Medical_History_24     2674 non-null float64\n",
      "Medical_History_32     796 non-null float64\n",
      "dtypes: float64(13)\n",
      "memory usage: 4.4 MB\n"
     ]
    }
   ],
   "source": [
    "df_na_cols.info()"
   ]
  },
  {
   "cell_type": "markdown",
   "metadata": {},
   "source": [
    "### So many Null Values!!!\n",
    "<br>\n",
    "What can we do about it?<br>\n",
    "My decision is to just <b>drop columns that has so many Null values</b>.. this columns might just affect the overall performance of the model therefore it is necessary to just drop them."
   ]
  },
  {
   "cell_type": "markdown",
   "metadata": {},
   "source": [
    "This is a function that chooses what columns are needed to be dropped:"
   ]
  },
  {
   "cell_type": "code",
   "execution_count": 36,
   "metadata": {},
   "outputs": [],
   "source": [
    "def choose_columns_to_drop(*dataframes, drop_ratio=0.6):\n",
    "    drop_df = {}\n",
    "    for df in dataframes:\n",
    "        for cols in df.columns:\n",
    "            number_of_not_nulls = df[cols].notnull().sum()\n",
    "            number_of_instances = len(df)\n",
    "            if number_of_not_nulls/number_of_instances < drop_ratio:\n",
    "                if cols in drop_df:\n",
    "                    drop_df[cols] += 1\n",
    "                else:\n",
    "                    drop_df[cols] = 1\n",
    "    return [i for i in drop_df.keys() if drop_df[i] > 0]"
   ]
  },
  {
   "cell_type": "markdown",
   "metadata": {},
   "source": [
    "This is a function that drops the features that contains only 0.6 not null values"
   ]
  },
  {
   "cell_type": "code",
   "execution_count": 37,
   "metadata": {},
   "outputs": [],
   "source": [
    "def drop_columns(*dataframes, columns):\n",
    "    df_list = []\n",
    "    for df in dataframes:\n",
    "        df.drop(columns, axis=1, inplace=True)\n",
    "        df_list.append(df)\n",
    "    return tuple(df_list)"
   ]
  },
  {
   "cell_type": "code",
   "execution_count": 38,
   "metadata": {
    "scrolled": true
   },
   "outputs": [],
   "source": [
    "drop_cols = choose_columns_to_drop(X_train1, X_test1)"
   ]
  },
  {
   "cell_type": "code",
   "execution_count": 39,
   "metadata": {},
   "outputs": [],
   "source": [
    "X_train2, X_test2 = drop_columns(X_train1, X_test1, columns=drop_cols)"
   ]
  },
  {
   "cell_type": "code",
   "execution_count": 40,
   "metadata": {},
   "outputs": [
    {
     "data": {
      "text/plain": [
       "(41566, 118)"
      ]
     },
     "execution_count": 40,
     "metadata": {},
     "output_type": "execute_result"
    }
   ],
   "source": [
    "X_train2.shape"
   ]
  },
  {
   "cell_type": "code",
   "execution_count": 42,
   "metadata": {},
   "outputs": [
    {
     "data": {
      "text/plain": [
       "(17815, 118)"
      ]
     },
     "execution_count": 42,
     "metadata": {},
     "output_type": "execute_result"
    }
   ],
   "source": [
    "X_test2.shape"
   ]
  },
  {
   "cell_type": "code",
   "execution_count": null,
   "metadata": {},
   "outputs": [],
   "source": []
  }
 ],
 "metadata": {
  "kernelspec": {
   "display_name": "Python 3",
   "language": "python",
   "name": "python3"
  },
  "language_info": {
   "codemirror_mode": {
    "name": "ipython",
    "version": 3
   },
   "file_extension": ".py",
   "mimetype": "text/x-python",
   "name": "python",
   "nbconvert_exporter": "python",
   "pygments_lexer": "ipython3",
   "version": "3.6.7"
  }
 },
 "nbformat": 4,
 "nbformat_minor": 2
}
